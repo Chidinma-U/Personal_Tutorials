{
 "cells": [
  {
   "cell_type": "markdown",
   "metadata": {},
   "source": [
    "### The Importance of the Standard Library\n",
    "Python is often described as coming with \"batteries included,\" which is usually a reference to its standard library. The Python standard library is vast, unlike any other language in the tech world. The Python standard library includes modules to connect to a socket; that is, one to send emails, one to connect to SQLite, one to work with the locale module, or one to encode and decode JSON and XML.\n",
    "\n",
    "It is also renowned for including such modules as turtle and tkinter, graphical interfaces that most users probably don't use anymore, but they have proven useful when Python is taught at schools and universities.\n",
    "\n",
    "It even includes IDLE, a Python-integrated development environment, it is not widely used as there are either other packages within the standard library that are used more often or external tools to substitute them. These libraries are divided into high-level modules and lower-level modules:"
   ]
  },
  {
   "cell_type": "markdown",
   "metadata": {},
   "source": [
    "#### High-Level Modules\n",
    "The Python standard library is truly vast and diverse, providing a toolbelt for the user that can be used to write most of their trivial programs. You can open an interpreter and run the following code snippet to print graphics on the screen. This can be executed on the Python terminal. The code mentioned here is with the >>> symbol:\n",
    "\n",
    "#>>> from turtle import Turtle, done\n",
    "#>>> turtle = Turtle()\n",
    "#>>> turtle.right(180)\n",
    "#>>> turtle.forward(100)\n",
    "#>>> turtle.right(90)\n",
    "#>>> turtle.forward(50)\n",
    "#>>> done()\n",
    "\n",
    "This code uses the turtle module which can be used to print the output on the screen. This output will look like the trail of a turtle that follows when the cursor is moved. The turtle module allows the user to interact with the cursor and leave a trail as it keeps moving. It has functions to move around the screen and print as it advances.\n",
    "\n",
    "Here is a detailed explanation of the turtle module code snippet:\n",
    "\n",
    "It creates a turtle in the middle of the screen.\n",
    "It then rotates it 180 degrees to the right.\n",
    "It moves forward 100 pixels, painting as it walks.\n",
    "It then rotates to the right once again, this time by 90 degrees.\n",
    "It then moves forward 50 pixels once again.\n",
    "It ends the program using done()."
   ]
  },
  {
   "cell_type": "markdown",
   "metadata": {},
   "source": [
    "You can go ahead and explore and input different values, playing around a bit with the turtle module and checking the different outputs you get, before you dive further into this chapter.\n",
    "\n",
    "The turtle module you worked on is an example of one of the high-level modules that the standard library offers.\n",
    "\n",
    "Other examples of high-level modules include:\n",
    "\n",
    "- Difflib: To check the differences line by line across two blocks of text.\n",
    "- Re: For regular expressions, which will be covered in Being Pythonic course.\n",
    "- Sqlite3: To create and interact with SQLite databases.\n",
    "- Multiple data compressing and archiving modules, such as gzip, zipfile, and tarfile.\n",
    "- XML, JSON, CSV, and config parser: For working with multiple file formats.\n",
    "- Sched: To schedule events in the standard library.\n",
    "- Argparse: For the straightforward creation of command-line interfaces.\n",
    "Now, you will use another high-level module argparse as an example and see how it can be used to create a command-line interface that echoes words passed in and, optionally, capitalizes them in a few lines of code. This can be executed in the Python terminal:"
   ]
  },
  {
   "cell_type": "markdown",
   "metadata": {},
   "source": [
    "*>>> import argparse\n",
    ">>> parser = argparse.ArgumentParser()\n",
    ">>> parser.add_argument(\"message\", help=\"Message to be echoed\")\n",
    ">>> parser.add_argument(\"-c\", \"--capitalize\", action=\"store_true\")\n",
    ">>> args = parser.parse_args()\n",
    ">>> if args.capitalize:\n",
    "        print(args.message.capitalize())\n",
    "    else:\n",
    "        print(args.message)\n",
    "\n",
    "This code example creates an instance of the ArgumentParser class, which helps you to create command-line interface applications.\n",
    "\n",
    "It then defines two arguments in lines 3 and 4: message and capitalize.\n",
    "\n",
    "Note that capitalize can also be referred to as -c, and we make it a Boolean flag option by changing the default action to store_true. At that point, you can just call parse_args, which will take the arguments passed in the command line, validate them, and expose them as attributes of args.\n",
    "\n",
    "The code then takes the input message and chooses whether to capitalize it based on the flag."
   ]
  }
 ],
 "metadata": {
  "kernelspec": {
   "display_name": "Python 3",
   "language": "python",
   "name": "python3"
  },
  "language_info": {
   "codemirror_mode": {
    "name": "ipython",
    "version": 3
   },
   "file_extension": ".py",
   "mimetype": "text/x-python",
   "name": "python",
   "nbconvert_exporter": "python",
   "pygments_lexer": "ipython3",
   "version": "3.7.3"
  }
 },
 "nbformat": 4,
 "nbformat_minor": 2
}
