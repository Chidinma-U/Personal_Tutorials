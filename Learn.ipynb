{
 "cells": [
  {
   "cell_type": "code",
   "execution_count": 2,
   "metadata": {},
   "outputs": [
    {
     "name": "stdout",
     "output_type": "stream",
     "text": [
      "Write the first number7\n",
      "Write the second number54\n",
      "61\n"
     ]
    }
   ],
   "source": [
    "x = input (\"Write the first number\")\n",
    "y = input (\"Write the second number\")\n",
    "\n",
    "z = int (x) + int (y)\n",
    "\n",
    "print (z)"
   ]
  },
  {
   "cell_type": "code",
   "execution_count": 4,
   "metadata": {},
   "outputs": [
    {
     "name": "stdout",
     "output_type": "stream",
     "text": [
      "Enter the temperature in celsius89\n",
      "192\n"
     ]
    }
   ],
   "source": [
    "##Formula for converting from celcuis to fahrenheit\n",
    "\n",
    "c = input (\"Enter the temperature in celsius\")\n",
    "c = int (c)\n",
    "f = (9/5)*c + 32\n",
    "\n",
    "print (int (f))"
   ]
  },
  {
   "cell_type": "code",
   "execution_count": 5,
   "metadata": {
    "scrolled": true
   },
   "outputs": [
    {
     "name": "stdout",
     "output_type": "stream",
     "text": [
      "Enter the number in minutes60\n",
      "Enter the number in seconds3600\n",
      "2.0\n"
     ]
    }
   ],
   "source": [
    "m = input (\"Enter the number in minutes\")\n",
    "n = input (\"Enter the number in seconds\")\n",
    "h = int (m)/60 + int (n)/3600\n",
    "print (h)"
   ]
  },
  {
   "cell_type": "code",
   "execution_count": 3,
   "metadata": {
    "scrolled": true
   },
   "outputs": [
    {
     "name": "stdout",
     "output_type": "stream",
     "text": [
      "11\n"
     ]
    }
   ],
   "source": [
    "##Function - This is something that performs a particular task. It is a block of code used to perform a particular task, it brings out the output based on the input.\n",
    "def add(x,y):\n",
    "    z = x+y\n",
    "    return z\n",
    "\n",
    "a=5\n",
    "b=6\n",
    "c=add (a,b)\n",
    "print (c)\n",
    "    "
   ]
  },
  {
   "cell_type": "code",
   "execution_count": 4,
   "metadata": {},
   "outputs": [
    {
     "name": "stdout",
     "output_type": "stream",
     "text": [
      "11\n",
      "14\n"
     ]
    }
   ],
   "source": [
    "##Function - This is something that performs a particular task. It is a block of code used to perform a particular task, it brings out the output based on the input.\n",
    "def add(x,y):\n",
    "    z = x+y\n",
    "    return print (z)\n",
    "\n",
    "a=5\n",
    "b=6\n",
    "add (a,b)\n",
    "\n",
    "d=6\n",
    "e=8\n",
    "add (d,e)\n",
    "    "
   ]
  },
  {
   "cell_type": "code",
   "execution_count": 8,
   "metadata": {
    "scrolled": true
   },
   "outputs": [
    {
     "name": "stdout",
     "output_type": "stream",
     "text": [
      "Enter the first value6\n",
      "Enter the second value4\n",
      "10\n"
     ]
    }
   ],
   "source": [
    "##Function - This is something that performs a particular task. It is a block of code used to perform a particular task, it brings out the output based on the input.\n",
    "def add(x,y): #x,y are parameters\n",
    "    z = x+y\n",
    "    return print(z)\n",
    "\n",
    "a=input (\"Enter the first value\")\n",
    "b=input (\"Enter the second value\")\n",
    "a=int (a)\n",
    "b=int (b)\n",
    "add (a,b)\n",
    "\n",
    "    "
   ]
  },
  {
   "cell_type": "code",
   "execution_count": 17,
   "metadata": {},
   "outputs": [
    {
     "name": "stdout",
     "output_type": "stream",
     "text": [
      "Enter the temperature in celsius56\n",
      "132.8\n"
     ]
    }
   ],
   "source": [
    "##Formula for converting from celcuis to fahrenheit\n",
    "def temp (c):\n",
    "    f = (9/5)*c + 32\n",
    "    return print(f)\n",
    "\n",
    "c = input (\"Enter the temperature in celsius\")\n",
    "c = int (c)\n",
    "temp (c)"
   ]
  },
  {
   "cell_type": "code",
   "execution_count": 20,
   "metadata": {
    "scrolled": false
   },
   "outputs": [
    {
     "name": "stdout",
     "output_type": "stream",
     "text": [
      "Enter the number in minutes50\n",
      "Enter the number in seconds3444\n"
     ]
    },
    {
     "data": {
      "text/plain": [
       "1.79"
      ]
     },
     "execution_count": 20,
     "metadata": {},
     "output_type": "execute_result"
    }
   ],
   "source": [
    "def leng (m,s):\n",
    "    h = int (m)/60 + int (s)/3600\n",
    "    return (h)\n",
    "m = input (\"Enter the number in minutes\")\n",
    "s = input (\"Enter the number in seconds\")\n",
    "leng(m,s)"
   ]
  },
  {
   "cell_type": "code",
   "execution_count": 10,
   "metadata": {},
   "outputs": [
    {
     "name": "stdout",
     "output_type": "stream",
     "text": [
      "Enter the first number4\n",
      "Enter the second number0\n",
      "this is not possible\n"
     ]
    }
   ],
   "source": [
    "def div (a,b):\n",
    "    if b == 0:\n",
    "        return print (\"this is not possible\")\n",
    "    else:\n",
    "        c=a/b\n",
    "        return print (c)\n",
    "\n",
    "a = input (\"Enter the first number\")\n",
    "b = input (\"Enter the second number\")\n",
    "\n",
    "div (int (a), int (b))\n"
   ]
  },
  {
   "cell_type": "code",
   "execution_count": 12,
   "metadata": {},
   "outputs": [
    {
     "name": "stdout",
     "output_type": "stream",
     "text": [
      "1\n",
      "2\n",
      "3\n",
      "4\n",
      "5\n",
      "6\n",
      "7\n",
      "8\n",
      "9\n",
      "10\n"
     ]
    }
   ],
   "source": [
    "#for loop\n",
    "\n",
    "x = [1,2,3,4,5,6,7,8,9,10]\n",
    "\n",
    "for item in x:\n",
    "    print (item)"
   ]
  },
  {
   "cell_type": "code",
   "execution_count": 55,
   "metadata": {},
   "outputs": [
    {
     "ename": "TypeError",
     "evalue": "'str' object is not callable",
     "output_type": "error",
     "traceback": [
      "\u001b[1;31m---------------------------------------------------------------------------\u001b[0m",
      "\u001b[1;31mTypeError\u001b[0m                                 Traceback (most recent call last)",
      "\u001b[1;32m<ipython-input-55-44e54b650827>\u001b[0m in \u001b[0;36m<module>\u001b[1;34m\u001b[0m\n\u001b[0;32m      5\u001b[0m \u001b[1;33m\u001b[0m\u001b[0m\n\u001b[0;32m      6\u001b[0m \u001b[1;32mfor\u001b[0m \u001b[0mi\u001b[0m \u001b[1;32min\u001b[0m \u001b[0mx\u001b[0m\u001b[1;33m:\u001b[0m\u001b[1;33m\u001b[0m\u001b[1;33m\u001b[0m\u001b[0m\n\u001b[1;32m----> 7\u001b[1;33m     \u001b[0mx\u001b[0m\u001b[1;33m[\u001b[0m\u001b[0mi\u001b[0m\u001b[1;33m]\u001b[0m \u001b[1;33m=\u001b[0m \u001b[0minput\u001b[0m\u001b[1;33m(\u001b[0m\u001b[1;34m\"what is your name?\"\u001b[0m\u001b[1;33m)\u001b[0m\u001b[1;33m\u001b[0m\u001b[1;33m\u001b[0m\u001b[0m\n\u001b[0m\u001b[0;32m      8\u001b[0m \u001b[1;33m\u001b[0m\u001b[0m\n\u001b[0;32m      9\u001b[0m \u001b[0mprint\u001b[0m\u001b[1;33m(\u001b[0m\u001b[0mx\u001b[0m\u001b[1;33m)\u001b[0m\u001b[1;33m\u001b[0m\u001b[1;33m\u001b[0m\u001b[0m\n",
      "\u001b[1;31mTypeError\u001b[0m: 'str' object is not callable"
     ]
    }
   ],
   "source": [
    "#Loops and user input (Example: to add the names of students in your database)\n",
    "\n",
    "\n",
    "x = [0,1,2,3,4,5,6,7,8,9]\n",
    "\n",
    "for i in x:\n",
    "    x[i] = input(\"what is your name?\")\n",
    "    \n",
    "print(x)"
   ]
  },
  {
   "cell_type": "code",
   "execution_count": 64,
   "metadata": {},
   "outputs": [
    {
     "name": "stdout",
     "output_type": "stream",
     "text": [
      "b\n",
      "l\n",
      "u\n",
      "e\n",
      "b\n",
      "e\n",
      "r\n",
      "r\n",
      "y\n",
      "b\n",
      "l\n",
      "u\n",
      "e\n",
      "b\n",
      "e\n",
      "r\n",
      "r\n",
      "y\n"
     ]
    }
   ],
   "source": [
    "x = \"blueberry\"\n",
    "\n",
    "for i in x:\n",
    "    print (i)\n",
    "    \n",
    "for i in \"blueberry\":\n",
    "    print (i)"
   ]
  },
  {
   "cell_type": "code",
   "execution_count": 68,
   "metadata": {},
   "outputs": [
    {
     "name": "stdout",
     "output_type": "stream",
     "text": [
      "0\n",
      "10\n",
      "20\n",
      "30\n",
      "40\n",
      "50\n"
     ]
    }
   ],
   "source": [
    "#While Loop\n",
    "\n",
    "i = 0\n",
    "\n",
    "while i<60:\n",
    "    print (i)\n",
    "    i+=10"
   ]
  },
  {
   "cell_type": "code",
   "execution_count": 73,
   "metadata": {},
   "outputs": [
    {
     "name": "stdout",
     "output_type": "stream",
     "text": [
      "red\n",
      "blue\n",
      "pink\n",
      "1\n",
      "2\n",
      "3\n",
      "4\n",
      "5\n",
      "6\n"
     ]
    }
   ],
   "source": [
    "#Break statement in while loop\n",
    "\n",
    "x = [\"red\", \"blue\", \"pink\", \"yellow\", \"purple\"]\n",
    "\n",
    "for i in x:\n",
    "    print (i)\n",
    "    if i == \"pink\":\n",
    "        break\n",
    "        \n",
    "        \n",
    "y = [1,2,3,4,5,6,7,8,9,10]\n",
    "\n",
    "for i in y:\n",
    "    if i == 7:\n",
    "        break\n",
    "        \n",
    "    print (i)"
   ]
  },
  {
   "cell_type": "code",
   "execution_count": 74,
   "metadata": {},
   "outputs": [
    {
     "name": "stdout",
     "output_type": "stream",
     "text": [
      "blue\n",
      "green\n",
      "yellow\n",
      "pink\n",
      "purple\n"
     ]
    }
   ],
   "source": [
    "# COntinue statement\n",
    "\n",
    "x = [\"blue\", \"green\", \"yellow\", \"brown\", \"pink\", \"purple\"]\n",
    "\n",
    "for i in x:\n",
    "    if i == \"brown\":\n",
    "        continue\n",
    "        \n",
    "    print (i)"
   ]
  },
  {
   "cell_type": "code",
   "execution_count": 79,
   "metadata": {},
   "outputs": [
    {
     "name": "stdout",
     "output_type": "stream",
     "text": [
      "0\n",
      "1\n",
      "2\n",
      "3\n",
      "4\n",
      "5\n",
      "6\n",
      "7\n",
      "8\n",
      "9\n",
      "it is over\n"
     ]
    }
   ],
   "source": [
    "#Else in:\n",
    "\n",
    "for x in range (10):\n",
    "    print (x)\n",
    "    \n",
    "else:\n",
    "    print (\"it is over\")"
   ]
  },
  {
   "cell_type": "code",
   "execution_count": 95,
   "metadata": {},
   "outputs": [
    {
     "name": "stdout",
     "output_type": "stream",
     "text": [
      "big gold\n",
      "big silver\n",
      "big bronze\n",
      "big diamond\n",
      "big iron\n",
      "big platinum\n",
      "small gold\n",
      "small silver\n",
      "small bronze\n",
      "small diamond\n",
      "small iron\n",
      "small platinum\n",
      "short gold\n",
      "short silver\n",
      "short bronze\n",
      "short diamond\n",
      "short iron\n",
      "short platinum\n",
      "tall gold\n",
      "tall silver\n",
      "tall bronze\n",
      "tall diamond\n",
      "tall iron\n",
      "tall platinum\n",
      "bold gold\n",
      "bold silver\n",
      "bold bronze\n",
      "bold diamond\n",
      "bold iron\n",
      "bold platinum\n",
      "shy gold\n",
      "shy silver\n",
      "shy bronze\n",
      "shy diamond\n",
      "shy iron\n",
      "shy platinum\n"
     ]
    }
   ],
   "source": [
    "#Nested Loops\n",
    "\n",
    "x = [\"big\", \"small\", \"short\", \"tall\", \"bold\", \"shy\"]\n",
    "y = [\"gold\", \"silver\", \"bronze\", \"diamond\", \"iron\", \"platinum\"]\n",
    "\n",
    "a = 0\n",
    "b = 0\n",
    "\n",
    "for i in x:\n",
    "    for j in y:\n",
    "        print (x[a], y[b])\n",
    "        b += 1\n",
    "    a += 1\n",
    "    b = 0"
   ]
  },
  {
   "cell_type": "code",
   "execution_count": 94,
   "metadata": {},
   "outputs": [
    {
     "name": "stdout",
     "output_type": "stream",
     "text": [
      "big gold\n",
      "big silver\n",
      "big bronze\n",
      "big diamond\n",
      "big iron\n",
      "big platinum\n",
      "small gold\n",
      "small silver\n",
      "small bronze\n",
      "small diamond\n",
      "small iron\n",
      "small platinum\n",
      "short gold\n",
      "short silver\n",
      "short bronze\n",
      "short diamond\n",
      "short iron\n",
      "short platinum\n",
      "tall gold\n",
      "tall silver\n",
      "tall bronze\n",
      "tall diamond\n",
      "tall iron\n",
      "tall platinum\n",
      "bold gold\n",
      "bold silver\n",
      "bold bronze\n",
      "bold diamond\n",
      "bold iron\n",
      "bold platinum\n",
      "shy gold\n",
      "shy silver\n",
      "shy bronze\n",
      "shy diamond\n",
      "shy iron\n",
      "shy platinum\n"
     ]
    }
   ],
   "source": [
    "#Nested Loops\n",
    "\n",
    "x = [\"big\", \"small\", \"short\", \"tall\", \"bold\", \"shy\"]\n",
    "y = [\"gold\", \"silver\", \"bronze\", \"diamond\", \"iron\", \"platinum\"]\n",
    "\n",
    "\n",
    "\n",
    "for i in x:\n",
    "    for j in y:\n",
    "        print (i, j)\n",
    "       "
   ]
  },
  {
   "cell_type": "code",
   "execution_count": 97,
   "metadata": {
    "scrolled": true
   },
   "outputs": [
    {
     "name": "stdout",
     "output_type": "stream",
     "text": [
      "2\n",
      "12\n",
      "22\n",
      "32\n",
      "42\n",
      "52\n",
      "62\n",
      "72\n",
      "82\n",
      "92\n"
     ]
    }
   ],
   "source": [
    "#Range function\n",
    "\n",
    "for x in range (2, 100, 10):\n",
    "    print (x)"
   ]
  },
  {
   "cell_type": "code",
   "execution_count": 1,
   "metadata": {},
   "outputs": [
    {
     "name": "stdout",
     "output_type": "stream",
     "text": [
      "Please enter the ages of class member. Type -1 to end:8\n",
      "The next age:-1\n",
      "The ages are [8]\n"
     ]
    }
   ],
   "source": [
    "user_input = int(input(\"Please enter the ages of class member. Type -1 to end:\"))\n",
    "ages = []\n",
    "\n",
    "while user_input > 0:\n",
    "    ages.append(user_input)\n",
    "    user_input = int(input(\"The next age:\"))\n",
    "    \n",
    "print (\"The ages are\", ages)"
   ]
  },
  {
   "cell_type": "code",
   "execution_count": 2,
   "metadata": {},
   "outputs": [
    {
     "name": "stdout",
     "output_type": "stream",
     "text": [
      "Enter number betweeen 1-1009\n",
      "Enter number betweeen 1-1007\n",
      "7 8 9 "
     ]
    }
   ],
   "source": [
    "num_1 = int(input(\"Enter number betweeen 1-100\"))\n",
    "num_2 = int(input(\"Enter number betweeen 1-100\"))\n",
    "\n",
    "while num_1 < 0 or num_2 < 0 or num_1 > 100 or num_2 > 100 or num_1 == num_2:\n",
    "    print (\"Numbers must be different values between 1 and 100. Try again\")\n",
    "    num_1 = int(input(\"Enter number betweeen 1-100\"))\n",
    "    num_2 = int(input(\"Enter number betweeen 1-100\"))\n",
    "    \n",
    "if num_1 < num_2:\n",
    "    for i in range (num_1,num_2+1):\n",
    "        print (i, end = \" \")\n",
    "else:\n",
    "    for i in range (num_2,num_1+1):\n",
    "        print (i, end = \" \")\n",
    "        "
   ]
  },
  {
   "cell_type": "code",
   "execution_count": 3,
   "metadata": {},
   "outputs": [
    {
     "name": "stdout",
     "output_type": "stream",
     "text": [
      "Please enter a wordjkjk\n",
      "kjkj \n"
     ]
    }
   ],
   "source": [
    "word = input(\"Please enter a word\")\n",
    "\n",
    "reverse_string = \" \"\n",
    "for i in word:\n",
    "    reverse_string = i + reverse_string\n",
    "\n",
    "print (reverse_string)\n",
    "# print (word [::-1])"
   ]
  },
  {
   "cell_type": "code",
   "execution_count": null,
   "metadata": {},
   "outputs": [],
   "source": [
    "user_input = int( input (\"Please enter a number between 1 and 12\"))\n",
    "\n",
    "for i in range (1,13):\n",
    "    print (f'{i} x {user_input} = {i* user_input}')"
   ]
  },
  {
   "cell_type": "code",
   "execution_count": 98,
   "metadata": {},
   "outputs": [
    {
     "name": "stdout",
     "output_type": "stream",
     "text": [
      "2020-04-08 14:16:17.182753\n"
     ]
    }
   ],
   "source": [
    "#Date and time\n",
    "\n",
    "import datetime\n",
    "\n",
    "x = datetime.datetime.now()\n",
    "\n",
    "print (x)"
   ]
  },
  {
   "cell_type": "code",
   "execution_count": 102,
   "metadata": {},
   "outputs": [
    {
     "name": "stdout",
     "output_type": "stream",
     "text": [
      "2025-05-12 00:00:00\n"
     ]
    }
   ],
   "source": [
    "#Date and time\n",
    "\n",
    "import datetime\n",
    "\n",
    "x = datetime.datetime(2025, 5, 12)\n",
    "\n",
    "print (x)"
   ]
  },
  {
   "cell_type": "code",
   "execution_count": 135,
   "metadata": {},
   "outputs": [
    {
     "name": "stdout",
     "output_type": "stream",
     "text": [
      "2020\n"
     ]
    }
   ],
   "source": [
    "#String format (strf), time method\n",
    "\n",
    "import datetime\n",
    "\n",
    "x = datetime.datetime.now()\n",
    "\n",
    "print (x.strftime(\"%Y\"))     #%Y, %G = year, %D = date, %A = day, %B = Month %F = Date in different format, %M = Minute %T = Time\n",
    "\n"
   ]
  },
  {
   "cell_type": "code",
   "execution_count": 137,
   "metadata": {},
   "outputs": [
    {
     "name": "stdout",
     "output_type": "stream",
     "text": [
      "jupyter\n",
      "numpy\n",
      "nltk\n",
      "scikit-learn\n",
      "pandas\n",
      "tabulate\n",
      "-e git+https://github.com/gauravmm/jupyter-testing.git#egg=jupyter-testing\n",
      "\n"
     ]
    }
   ],
   "source": [
    "##File handling in python\n",
    "\n",
    "#Opening and reading the file\n",
    "\n",
    "file = open (\"requirements.txt\", \"r\") # r = read, o = open, a = append\n",
    "\n",
    "x = file.read()\n",
    "print (x)"
   ]
  },
  {
   "cell_type": "code",
   "execution_count": 150,
   "metadata": {},
   "outputs": [],
   "source": [
    "# Writing a file\n",
    "\n",
    "file = open(\"requirements.txt\", \"w\")\n",
    "file.write(\"matplotlib\\n\")\n",
    "\n",
    "file.write(\"ideas\\n\")\n",
    "file.close()"
   ]
  },
  {
   "cell_type": "code",
   "execution_count": 152,
   "metadata": {},
   "outputs": [],
   "source": [
    "x = [\"blue\", \"red\", \"yellow\", \"green\", \"white\"]\n",
    "\n",
    "file = open(\"requirements.txt\", \"w\")\n",
    "\n",
    "for item in x:\n",
    "    file.write(item + \"\\n\")\n",
    "    \n",
    "file.close()"
   ]
  },
  {
   "cell_type": "code",
   "execution_count": 157,
   "metadata": {},
   "outputs": [],
   "source": [
    "#Appending    (write method and append method create a new file)\n",
    "\n",
    "file = open (\"requirements.txt\", \"a\")\n",
    "file.write(\"purple\")\n",
    "file.close()"
   ]
  },
  {
   "cell_type": "code",
   "execution_count": null,
   "metadata": {},
   "outputs": [],
   "source": [
    "#Different methods r+ - reading and writing, w+ - writing and reading, a+ - reading and appending"
   ]
  },
  {
   "cell_type": "code",
   "execution_count": null,
   "metadata": {},
   "outputs": [],
   "source": [
    "###Libraries and Modules - These are defined python programs that perform any specific task\n",
    "\n",
    "#Libraries\n",
    "\n"
   ]
  },
  {
   "cell_type": "code",
   "execution_count": 3,
   "metadata": {},
   "outputs": [
    {
     "name": "stdout",
     "output_type": "stream",
     "text": [
      "x = 5 y = 6\n",
      "Checking less than with '<': True\n",
      "Checking greater than with '>': False\n"
     ]
    }
   ],
   "source": [
    "x = 5\n",
    "y = 6\n",
    "\n",
    "print (\"x =\", x, \"y =\", y)\n",
    "\n",
    "print (\"Checking less than with '<':\", x<y)\n",
    "print (\"Checking greater than with '>':\", x>y)"
   ]
  },
  {
   "cell_type": "code",
   "execution_count": 2,
   "metadata": {},
   "outputs": [
    {
     "name": "stdout",
     "output_type": "stream",
     "text": [
      "Please enter a number between 1-57\n",
      "out of range\n"
     ]
    }
   ],
   "source": [
    "user_input = int(input (\"Please enter a number between 1-5\"))\n",
    "\n",
    "if user_input == 1:\n",
    "    print (\"one\")\n",
    "elif user_input == 2:\n",
    "    print (\"two\")\n",
    "elif user_input == 3:\n",
    "    print (\"three\")\n",
    "elif user_input == 4:\n",
    "    print (\"four\")\n",
    "elif user_input == 5:\n",
    "    print (\"five\")\n",
    "else:\n",
    "    print (\"out of range\")"
   ]
  },
  {
   "cell_type": "code",
   "execution_count": 7,
   "metadata": {},
   "outputs": [
    {
     "name": "stdout",
     "output_type": "stream",
     "text": [
      "Please enter a string between one and fiveONE\n",
      "1\n"
     ]
    }
   ],
   "source": [
    "user_input = (input (\"Please enter a string between one and five\"))\n",
    "user_input = user_input.lower()\n",
    "\n",
    "if user_input == \"one\":\n",
    "    print (1)\n",
    "elif user_input == \"two\":\n",
    "    print (2)\n",
    "elif user_input == \"three\":\n",
    "    print (3)\n",
    "elif user_input == \"four\":\n",
    "    print (4)\n",
    "elif user_input == \"five\":\n",
    "    print (5)\n",
    "else:\n",
    "    print (\"out of range\")"
   ]
  },
  {
   "cell_type": "code",
   "execution_count": 17,
   "metadata": {},
   "outputs": [
    {
     "name": "stdout",
     "output_type": "stream",
     "text": [
      "guess the number between 1 - 10five\n",
      "see ya later\n"
     ]
    }
   ],
   "source": [
    "secret_number = 3\n",
    "guess = input(\"guess the number between 1 - 10\")\n",
    "if guess.isdigit():\n",
    "    guess = int(guess)\n",
    "    if guess == secret_number:\n",
    "        print (\"You guessed the correct number, you win!\")\n",
    "    elif guess > secret_number and guess <=10:\n",
    "        print (\"You guessed too high, you lose!\")\n",
    "    elif guess < secret_number and guess >=1:\n",
    "        print (\"You guessed too low, you lose\")\n",
    "    else:\n",
    "        print (\"out of range\")\n",
    "else:\n",
    "    print (\"see ya later\")"
   ]
  },
  {
   "cell_type": "code",
   "execution_count": 36,
   "metadata": {},
   "outputs": [
    {
     "name": "stdout",
     "output_type": "stream",
     "text": [
      "Please enter your name5\n",
      "Name is too short\n"
     ]
    }
   ],
   "source": [
    "name = input (\"Please enter your name\")\n",
    "name_len = len(name)\n",
    "if name_len == 5:\n",
    "    print (\"Name is correct\")\n",
    "elif name_len >= 5 and name_len < 7:\n",
    "    print (\"Name is too long\")\n",
    "elif name_len < 5:\n",
    "    print (\"Name is too short\")\n",
    "else:\n",
    "    print(\"go home sucker!\")"
   ]
  },
  {
   "cell_type": "code",
   "execution_count": 45,
   "metadata": {},
   "outputs": [
    {
     "name": "stdout",
     "output_type": "stream",
     "text": [
      "please enter a number between 1-2023\n",
      "please enter another number1\n",
      "24\n"
     ]
    }
   ],
   "source": [
    "int_one = int(input (\"please enter a number between 1-20\"))\n",
    "int_two = int(input (\"please enter another number\"))\n",
    "\n",
    "if int_one > 15 and int_two > 15:\n",
    "    print (int_one * int_two)\n",
    "elif int_one > 15 or int_two > 15:\n",
    "    print (int_one + int_two)\n",
    "else:\n",
    "    print (0)"
   ]
  },
  {
   "cell_type": "code",
   "execution_count": 52,
   "metadata": {},
   "outputs": [
    {
     "name": "stdout",
     "output_type": "stream",
     "text": [
      "enter the first number6\n",
      "enter the second number7\n",
      "before swapping int_1 = 6 and int_2 = 7\n",
      "after swapping int_1 = 7 and int_2 = 6\n"
     ]
    }
   ],
   "source": [
    "int_1 = int(input(\"enter the first number\"))\n",
    "int_2 = int(input(\"enter the second number\"))\n",
    "\n",
    "print ('before swapping int_1 =',int_1,'and int_2 =',int_2)\n",
    "int_1,int_2 = int_2,int_1\n",
    "print (\"after swapping int_1 =\" ,int_1,\"and int_2 =\" ,int_2)"
   ]
  },
  {
   "cell_type": "code",
   "execution_count": null,
   "metadata": {},
   "outputs": [],
   "source": [
    "help(range)"
   ]
  },
  {
   "cell_type": "code",
   "execution_count": 55,
   "metadata": {},
   "outputs": [
    {
     "name": "stdout",
     "output_type": "stream",
     "text": [
      "[24, 35, 56, 64, 71, 89, 190]\n"
     ]
    }
   ],
   "source": [
    "data = [56,71,24,89,35,64,190]\n",
    "\n",
    "for i in range (len(data)):\n",
    "    for j in range (0, len (data)-i-1):\n",
    "        if data [j] > data [j+1]:\n",
    "            data [j], data [j+1] = data [j+1], data [j]\n",
    "print (data)"
   ]
  },
  {
   "cell_type": "code",
   "execution_count": null,
   "metadata": {},
   "outputs": [],
   "source": [
    "user_input = int(input(\"Please enter ages of class member. Type -1 to end:\"))\n",
    "ages = []\n",
    "\n",
    "while user_input > 0:\n",
    "    ages.append(user_input)\n",
    "    user_input = int(input(\"The next age:\"))\n",
    "print (\"The ages are\", ages)"
   ]
  },
  {
   "cell_type": "code",
   "execution_count": null,
   "metadata": {},
   "outputs": [],
   "source": [
    "user_input = int(input(\"Please enter the ages of class member. Type -1 to end:\"))\n",
    "ages = []\n",
    "\n",
    "while user_input > 0:\n",
    "    ages.append(user_input)\n",
    "    user_input = int(input(\"The next age:\"))\n",
    "    \n",
    "print (\"The ages are\", ages)"
   ]
  },
  {
   "cell_type": "code",
   "execution_count": 1,
   "metadata": {},
   "outputs": [
    {
     "name": "stdout",
     "output_type": "stream",
     "text": [
      "===========\n",
      "|         |\n",
      "|    O    |\n",
      "|         |\n",
      "===========\n",
      "y or ny\n",
      "===========\n",
      "| O     O |\n",
      "|         |\n",
      "| O     O |\n",
      "===========\n",
      "y or nn\n"
     ]
    }
   ],
   "source": [
    "#### DICE PROJECT\n",
    "\n",
    "'''\n",
    "How to get your algorithm:\n",
    "1. Develop random number\n",
    "2. Check the number\n",
    "3. Print the face\n",
    "4. Looping\n",
    "'''\n",
    "\n",
    "import random                    # Develop the random number\n",
    "\n",
    "#Developing the random number\n",
    "#number = random.randint(1,6)\n",
    "#print (number)\n",
    "\n",
    "#Check the number\n",
    "#Print the face\n",
    "# Looping\n",
    "print (\"This is a Dice Stimulator\")\n",
    "x = \"y\"\n",
    "while x == \"y\":\n",
    "    number = random.randint(1,6)\n",
    "    if number == 1:\n",
    "        print (\"===========\")\n",
    "        print (\"|         |\")\n",
    "        print (\"|    O    |\")\n",
    "        print (\"|         |\")\n",
    "        print (\"===========\")\n",
    "    \n",
    "    if number == 2:\n",
    "        print (\"===========\")\n",
    "        print (\"|         |\")\n",
    "        print (\"|   OO    |\")\n",
    "        print (\"|         |\")\n",
    "        print (\"===========\")\n",
    "\n",
    "    if number == 3:\n",
    "        print (\"===========\")\n",
    "        print (\"|    O    |\")\n",
    "        print (\"|    O    |\")\n",
    "        print (\"|    O    |\")\n",
    "        print (\"===========\")\n",
    "\n",
    "    if number == 4:\n",
    "        print (\"===========\")\n",
    "        print (\"| O     O |\")\n",
    "        print (\"|         |\")\n",
    "        print (\"| O     O |\")\n",
    "        print (\"===========\")\n",
    "\n",
    "    if number == 5:\n",
    "        print (\"===========\")\n",
    "        print (\"| O     O |\")\n",
    "        print (\"|    O    |\")\n",
    "        print (\"| O     O |\")\n",
    "        print (\"===========\")\n",
    "\n",
    "    if number == 6:\n",
    "        print (\"===========\")\n",
    "        print (\"| O  O  O |\")\n",
    "        print (\"|         |\")\n",
    "        print (\"| O  O  O |\")\n",
    "        print (\"===========\")\n",
    "        \n",
    "    x = input (\"press y to roll again\")\n"
   ]
  },
  {
   "cell_type": "code",
   "execution_count": null,
   "metadata": {},
   "outputs": [],
   "source": [
    "### DICTIONARY PROJECT\n",
    "\n",
    "'''\n",
    "1. Interface\n",
    "2. Develop the word matching\n",
    "3. Modify the program\n",
    "'''\n",
    "\n"
   ]
  }
 ],
 "metadata": {
  "kernelspec": {
   "display_name": "Python 3",
   "language": "python",
   "name": "python3"
  },
  "language_info": {
   "codemirror_mode": {
    "name": "ipython",
    "version": 3
   },
   "file_extension": ".py",
   "mimetype": "text/x-python",
   "name": "python",
   "nbconvert_exporter": "python",
   "pygments_lexer": "ipython3",
   "version": "3.7.3"
  }
 },
 "nbformat": 4,
 "nbformat_minor": 2
}
